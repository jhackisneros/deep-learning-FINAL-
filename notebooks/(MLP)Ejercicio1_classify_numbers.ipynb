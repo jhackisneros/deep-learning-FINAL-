{
  "nbformat": 4,
  "nbformat_minor": 0,
  "metadata": {
    "colab": {
      "provenance": [],
      "gpuType": "T4",
      "include_colab_link": true
    },
    "kernelspec": {
      "name": "python3",
      "display_name": "Python 3"
    },
    "language_info": {
      "name": "python"
    },
    "accelerator": "GPU"
  },
  "cells": [
    {
      "cell_type": "markdown",
      "metadata": {
        "id": "view-in-github",
        "colab_type": "text"
      },
      "source": [
        "<a href=\"https://colab.research.google.com/github/jhackisneros/deep-learning-FINAL-/blob/main/(MLP)Ejercicio1_classify_numbers.ipynb\" target=\"_parent\"><img src=\"https://colab.research.google.com/assets/colab-badge.svg\" alt=\"Open In Colab\"/></a>"
      ]
    },
    {
      "cell_type": "markdown",
      "metadata": {
        "id": "gd62ecXytn2N"
      },
      "source": [
        "# **Reconocimiento de números escritos**\n",
        "En este cuaderno, construiremos una red neuronal que reconozca los números escritos del 0 al 9.\n",
        "\n",
        "Este tipo de red neuronal se utiliza en una variedad de aplicaciones del mundo real, incluyendo: el reconocimiento de números de teléfono y la clasificación del correo postal por dirección. Para construir la red, utilizaremos el conjunto de datos MNIST, que consiste en imágenes de números escritos a mano y sus etiquetas correctas del 0 al 9.\n",
        "\n",
        "Utilizaremos keras, una biblioteca de alto nivel construida sobre TensorFlow para construir la red neuronal. Empezaremos importando todos los módulos que necesitaremos, luego cargaremos los datos y finalmente construiremos la red."
      ]
    },
    {
      "cell_type": "code",
      "metadata": {
        "id": "FNcFrAYJteEz"
      },
      "source": [
        "import numpy as np\n",
        "import tensorflow as tf\n",
        "from tensorflow.keras.models import Sequential\n",
        "from tensorflow.keras.layers import Dense, Input, Flatten\n",
        "from tensorflow.keras.datasets import mnist\n",
        "from tensorflow.keras.utils import to_categorical\n",
        "from sklearn.metrics import confusion_matrix, classification_report\n",
        "import matplotlib.pyplot as plt"
      ],
      "execution_count": 1,
      "outputs": []
    },
    {
      "cell_type": "code",
      "source": [
        "import tensorflow as tf\n",
        "print(tf.__version__)\n"
      ],
      "metadata": {
        "colab": {
          "base_uri": "https://localhost:8080/"
        },
        "id": "Qk4hNWt6pt6Q",
        "outputId": "f6661474-5e54-480b-ee61-e72aec9c9844"
      },
      "execution_count": 2,
      "outputs": [
        {
          "output_type": "stream",
          "name": "stdout",
          "text": [
            "2.19.0\n"
          ]
        }
      ]
    },
    {
      "cell_type": "markdown",
      "metadata": {
        "id": "Co5MIc6auDPj"
      },
      "source": [
        "# **Preparación de los datos de entrenamiento y de prueba**\n",
        "\n",
        "El conjunto de datos MNIST ya contiene datos de entrenamiento y de prueba. Hay 55.000 puntos de datos de entrenamiento y 10.000 puntos de datos de prueba.\n",
        "\n",
        "Cada punto de datos MNIST tiene una imagen de un dígito escrito a mano y\n",
        "una etiqueta correspondiente (un número 0-9 que identifica la imagen)\n",
        "Llamaremos a las imágenes, que serán la entrada de nuestra red neuronal, X y a sus correspondientes etiquetas Y.\n",
        "\n",
        "Vamos a querer que nuestras etiquetas sean vectores de un solo punto, es decir, vectores que contienen mayoritariamente 0 y un 1. Es más fácil ver esto en un ejemplo. Como un vector de un solo golpe, el número 0 se representa como [1, 0, 0, 0, 0, 0, 0, 0, 0], y 4 se representa como [0, 0, 0, 0, 1, 0, 0, 0, 0].\n",
        "\n",
        "\n",
        "# Datos aplanados (Flatten)\n",
        "Para este ejemplo, utilizaremos datos aplanados o una representación de las imágenes MNIST en una dimensión en lugar de dos. Así, cada imagen de números escritos a mano, que tiene 28x28 píxeles, se representará como una matriz unidimensional de 784 valores de píxeles.\n",
        "\n",
        "El aplanamiento de los datos elimina la información sobre la estructura 2D de la imagen, pero simplifica nuestros datos para que todos los datos de entrenamiento puedan estar contenidos en una matriz cuya forma es [55000, 784]; la primera dimensión es el número de imágenes de entrenamiento y la segunda el número de píxeles de cada imagen. Este es el tipo de datos que es fácil de analizar utilizando una red neuronal simple."
      ]
    },
    {
      "cell_type": "code",
      "metadata": {
        "id": "aVetL8D9uCZl",
        "colab": {
          "base_uri": "https://localhost:8080/"
        },
        "outputId": "91c85de2-5071-4c6d-996f-23a5ade2c4a5"
      },
      "source": [
        "# Cargamos los datos de train y test\n",
        "(trainX, trainY), (testX, testY) = mnist.load_data()"
      ],
      "execution_count": 3,
      "outputs": [
        {
          "output_type": "stream",
          "name": "stdout",
          "text": [
            "Downloading data from https://storage.googleapis.com/tensorflow/tf-keras-datasets/mnist.npz\n",
            "\u001b[1m11490434/11490434\u001b[0m \u001b[32m━━━━━━━━━━━━━━━━━━━━\u001b[0m\u001b[37m\u001b[0m \u001b[1m2s\u001b[0m 0us/step\n"
          ]
        }
      ]
    },
    {
      "cell_type": "markdown",
      "metadata": {
        "id": "9sDfwLvYvReo"
      },
      "source": [
        "**Introducir el código necesario para visualizar el tamaño de los datos obtenidos**"
      ]
    },
    {
      "cell_type": "code",
      "metadata": {
        "id": "nhz-eLjEujno",
        "colab": {
          "base_uri": "https://localhost:8080/"
        },
        "outputId": "0bcd077d-6a34-4943-b84b-eda45cbe5a73"
      },
      "source": [
        "print(\"trainX:\", trainX.shape)\n",
        "print(\"trainY:\", trainY.shape)\n",
        "print(\"testX:\", testX.shape)\n",
        "print(\"testY:\", testY.shape)"
      ],
      "execution_count": null,
      "outputs": [
        {
          "output_type": "stream",
          "name": "stdout",
          "text": [
            "trainX: (60000, 28, 28)\n",
            "trainY: (60000,)\n",
            "testX: (10000, 28, 28)\n",
            "testY: (10000,)\n"
          ]
        }
      ]
    },
    {
      "cell_type": "markdown",
      "metadata": {
        "id": "pPZxh30KvbyM"
      },
      "source": [
        "# **Visualizar los datos de entrenamiento**\n",
        "A continuación se presenta una función que le ayudará a visualizar los datos de MNIST. Al pasar el índice de un ejemplo de entrenamiento, la función show_digit mostrará esa imagen de entrenamiento junto con su correspondiente etiqueta en el título."
      ]
    },
    {
      "cell_type": "code",
      "metadata": {
        "colab": {
          "base_uri": "https://localhost:8080/",
          "height": 452
        },
        "id": "NOrVb4NzvrPY",
        "outputId": "6a3c7bbe-034b-423a-8881-782567b8983e"
      },
      "source": [
        "#Función para visualizar los datos que acabamos de cargar\n",
        "def display_digit(index):\n",
        "    label = trainY[index]\n",
        "    image = trainX[index]\n",
        "    plt.title(f'Training data, index: {index}, Label: {label}')\n",
        "    plt.imshow(image, cmap='gray_r')\n",
        "    plt.show()\n",
        "\n",
        "# Visualizamos el dígito que queramos pasando una posicióndel array\n",
        "display_digit(52342)"
      ],
      "execution_count": null,
      "outputs": [
        {
          "output_type": "display_data",
          "data": {
            "text/plain": [
              "<Figure size 640x480 with 1 Axes>"
            ],
            "image/png": "[encoded data removed]"
          },
          "metadata": {}
        }
      ]
    },
    {
      "cell_type": "markdown",
      "metadata": {
        "id": "usFaftm6wD_P"
      },
      "source": [
        "# **Construir la red**\n",
        "Keras te permite construir la red definiendo las capas de la misma.\n",
        "\n",
        "Para este ejemplo, hay que definir:\n",
        "  \n",
        "\n",
        "1.   La capa de entrada, que indica a la red el número de entradas que debe esperar para cada dato MNIST.\n",
        "2.   Las capas ocultas, que reconocen patrones en los datos y conectan la entrada con la capa de salida\n",
        "3.   La capa de salida, que define cómo la red aprende y emite una etiqueta para una imagen determinada.\n",
        "\n",
        "\n",
        "Empecemos por la capa de entrada; para definir la capa de entrada, se definirá el tipo de datos que espera la red. Por ejemplo:\n",
        "\n",
        "\n",
        "```\n",
        "model = Sequential()\n",
        "model.add(keras.Input(shape=(100,)))\n",
        "```\n",
        "\n",
        "\n",
        "\n",
        "\n",
        "crearía una red con 100 entradas, tener en cuenta que esta definición es para un modelo secuencial. **El número de entradas de su red debe coincidir con el tamaño de sus datos**. En este ejemplo, estamos utilizando vectores largos de 784 elementos para codificar nuestros datos de entrada, por lo que necesitamos 784 unidades de entrada."
      ]
    },
    {
      "cell_type": "markdown",
      "metadata": {
        "id": "vU55P7RRw-TN"
      },
      "source": [
        "# **Añadir capas**\n",
        "Para añadir nuevas capas ocultas, se utiliza:\n",
        "\n",
        "`model.add(Dense(128, activation='relu'))`\n",
        "\n",
        "Esto añade una capa totalmente conectada (fully connected, dense o MLP) donde cada unidad (o nodo) de la capa anterior está conectada a cada unidad de esta capa. El primer argumento establece el número de unidades en la capa, y establecer la función de activación con la palabra clave activation. Puedes seguir añadiendo capas a tu red llamando repetidamente.\n",
        "\n",
        "Luego, para establecer cómo se entrena la red, utilice:\n",
        "\n",
        "`model.compile(optimizer='sgd', learning_rate=0.1,loss='categorical_crossentropy')`\n",
        "\n",
        "De nuevo, esto es pasar la red que has estado construyendo. Las palabras clave\n",
        "optimizer establece el método de entrenamiento, aquí el descenso de gradiente estocástico learning_rate es la tasa de aprendizaje y loss determina cómo se calcula el error de la red. En este ejemplo, con entropía cruzada categórica."
      ]
    },
    {
      "cell_type": "code",
      "source": [
        "dim_input = trainX.shape[1] * trainX.shape[2]\n",
        "trainX_norm = trainX.astype('float32') / 255.0\n",
        "testX_norm = testX.astype('float32') / 255.0\n",
        "\n",
        "trainX_norm = trainX_norm.reshape(trainX_norm.shape[0], dim_input)\n",
        "testX_norm = testX_norm.reshape(testX_norm.shape[0], dim_input)\n",
        "\n",
        "trainY_cate = to_categorical(trainY, num_classes=10)\n",
        "testY_cate = to_categorical(testY, num_classes=10)"
      ],
      "metadata": {
        "id": "iquDt0GKqxSr"
      },
      "execution_count": null,
      "outputs": []
    },
    {
      "cell_type": "code",
      "metadata": {
        "id": "HoxX2CS0vzwq"
      },
      "source": [
        "def build_model():\n",
        "    model = Sequential()\n",
        "    model.add(Input(shape=(dim_input,)))\n",
        "    model.add(Dense(128, activation='relu'))  # capa oculta inicial\n",
        "    model.add(Dense(64, activation='relu'))   # capa oculta adicional\n",
        "    model.add(Dense(10, activation='softmax'))  # capa de salida\n",
        "\n",
        "    model.compile(\n",
        "        optimizer='adam',\n",
        "        loss='categorical_crossentropy',\n",
        "        metrics=['accuracy']\n",
        "    )\n",
        "    return model"
      ],
      "execution_count": null,
      "outputs": []
    },
    {
      "cell_type": "markdown",
      "metadata": {
        "id": "CYw1byIny9PU"
      },
      "source": [
        "# **Entrenamiento de la red**\n",
        "Ahora que hemos construido la red, guardada como variable modelo, podemos ajustarla a los datos. Para ello utilizamos el método model.fit. Se pasan las características de entrenamiento trainX y los objetivos de entrenamiento trainY. También puedes establecer el tamaño del batch y el número de epochs con las palabras clave batch_size y epochs, respectivamente.\n",
        "\n",
        "\n",
        "\n",
        "```\n",
        "Model.fit( x=None, y=None, batch_size=None, epochs=1, verbose=\"auto\")\n",
        "```\n",
        "\n",
        "\n",
        "\n",
        "\n",
        "Muy pocos epochs no permiten que la red termine de entrenar, y demasiadas tardan mucho tiempo en ejecutarse. Elija con cuidado."
      ]
    },
    {
      "cell_type": "code",
      "metadata": {
        "id": "oS_HfWvA2YBc",
        "colab": {
          "base_uri": "https://localhost:8080/",
          "height": 225
        },
        "outputId": "40ee1eb5-bcdc-48ce-b4ea-869bc7419dfa"
      },
      "source": [
        "model_tofit = build_model()\n",
        "model_tofit.summary()"
      ],
      "execution_count": null,
      "outputs": [
        {
          "output_type": "display_data",
          "data": {
            "text/plain": [
              "\u001b[1mModel: \"sequential_3\"\u001b[0m\n"
            ],
            "text/html": [
              "<pre style=\"white-space:pre;overflow-x:auto;line-height:normal;font-family:Menlo,'DejaVu Sans Mono',consolas,'Courier New',monospace\"><span style=\"font-weight: bold\">Model: \"sequential_3\"</span>\n",
              "</pre>\n"
            ]
          },
          "metadata": {}
        },
        {
          "output_type": "display_data",
          "data": {
            "text/plain": [
              "┏━━━━━━━━━━━━━━━━━━━━━━━━━━━━━━━━━┳━━━━━━━━━━━━━━━━━━━━━━━━┳━━━━━━━━━━━━━━━┓\n",
              "┃\u001b[1m \u001b[0m\u001b[1mLayer (type)                   \u001b[0m\u001b[1m \u001b[0m┃\u001b[1m \u001b[0m\u001b[1mOutput Shape          \u001b[0m\u001b[1m \u001b[0m┃\u001b[1m \u001b[0m\u001b[1m      Param #\u001b[0m\u001b[1m \u001b[0m┃\n",
              "┡━━━━━━━━━━━━━━━━━━━━━━━━━━━━━━━━━╇━━━━━━━━━━━━━━━━━━━━━━━━╇━━━━━━━━━━━━━━━┩\n",
              "│ dense_9 (\u001b[38;5;33mDense\u001b[0m)                 │ (\u001b[38;5;45mNone\u001b[0m, \u001b[38;5;34m128\u001b[0m)            │       \u001b[38;5;34m100,480\u001b[0m │\n",
              "├─────────────────────────────────┼────────────────────────┼───────────────┤\n",
              "│ dense_10 (\u001b[38;5;33mDense\u001b[0m)                │ (\u001b[38;5;45mNone\u001b[0m, \u001b[38;5;34m64\u001b[0m)             │         \u001b[38;5;34m8,256\u001b[0m │\n",
              "├─────────────────────────────────┼────────────────────────┼───────────────┤\n",
              "│ dense_11 (\u001b[38;5;33mDense\u001b[0m)                │ (\u001b[38;5;45mNone\u001b[0m, \u001b[38;5;34m10\u001b[0m)             │           \u001b[38;5;34m650\u001b[0m │\n",
              "└─────────────────────────────────┴────────────────────────┴───────────────┘\n"
            ],
            "text/html": [
              "<pre style=\"white-space:pre;overflow-x:auto;line-height:normal;font-family:Menlo,'DejaVu Sans Mono',consolas,'Courier New',monospace\">┏━━━━━━━━━━━━━━━━━━━━━━━━━━━━━━━━━┳━━━━━━━━━━━━━━━━━━━━━━━━┳━━━━━━━━━━━━━━━┓\n",
              "┃<span style=\"font-weight: bold\"> Layer (type)                    </span>┃<span style=\"font-weight: bold\"> Output Shape           </span>┃<span style=\"font-weight: bold\">       Param # </span>┃\n",
              "┡━━━━━━━━━━━━━━━━━━━━━━━━━━━━━━━━━╇━━━━━━━━━━━━━━━━━━━━━━━━╇━━━━━━━━━━━━━━━┩\n",
              "│ dense_9 (<span style=\"color: #0087ff; text-decoration-color: #0087ff\">Dense</span>)                 │ (<span style=\"color: #00d7ff; text-decoration-color: #00d7ff\">None</span>, <span style=\"color: #00af00; text-decoration-color: #00af00\">128</span>)            │       <span style=\"color: #00af00; text-decoration-color: #00af00\">100,480</span> │\n",
              "├─────────────────────────────────┼────────────────────────┼───────────────┤\n",
              "│ dense_10 (<span style=\"color: #0087ff; text-decoration-color: #0087ff\">Dense</span>)                │ (<span style=\"color: #00d7ff; text-decoration-color: #00d7ff\">None</span>, <span style=\"color: #00af00; text-decoration-color: #00af00\">64</span>)             │         <span style=\"color: #00af00; text-decoration-color: #00af00\">8,256</span> │\n",
              "├─────────────────────────────────┼────────────────────────┼───────────────┤\n",
              "│ dense_11 (<span style=\"color: #0087ff; text-decoration-color: #0087ff\">Dense</span>)                │ (<span style=\"color: #00d7ff; text-decoration-color: #00d7ff\">None</span>, <span style=\"color: #00af00; text-decoration-color: #00af00\">10</span>)             │           <span style=\"color: #00af00; text-decoration-color: #00af00\">650</span> │\n",
              "└─────────────────────────────────┴────────────────────────┴───────────────┘\n",
              "</pre>\n"
            ]
          },
          "metadata": {}
        },
        {
          "output_type": "display_data",
          "data": {
            "text/plain": [
              "\u001b[1m Total params: \u001b[0m\u001b[38;5;34m109,386\u001b[0m (427.29 KB)\n"
            ],
            "text/html": [
              "<pre style=\"white-space:pre;overflow-x:auto;line-height:normal;font-family:Menlo,'DejaVu Sans Mono',consolas,'Courier New',monospace\"><span style=\"font-weight: bold\"> Total params: </span><span style=\"color: #00af00; text-decoration-color: #00af00\">109,386</span> (427.29 KB)\n",
              "</pre>\n"
            ]
          },
          "metadata": {}
        },
        {
          "output_type": "display_data",
          "data": {
            "text/plain": [
              "\u001b[1m Trainable params: \u001b[0m\u001b[38;5;34m109,386\u001b[0m (427.29 KB)\n"
            ],
            "text/html": [
              "<pre style=\"white-space:pre;overflow-x:auto;line-height:normal;font-family:Menlo,'DejaVu Sans Mono',consolas,'Courier New',monospace\"><span style=\"font-weight: bold\"> Trainable params: </span><span style=\"color: #00af00; text-decoration-color: #00af00\">109,386</span> (427.29 KB)\n",
              "</pre>\n"
            ]
          },
          "metadata": {}
        },
        {
          "output_type": "display_data",
          "data": {
            "text/plain": [
              "\u001b[1m Non-trainable params: \u001b[0m\u001b[38;5;34m0\u001b[0m (0.00 B)\n"
            ],
            "text/html": [
              "<pre style=\"white-space:pre;overflow-x:auto;line-height:normal;font-family:Menlo,'DejaVu Sans Mono',consolas,'Courier New',monospace\"><span style=\"font-weight: bold\"> Non-trainable params: </span><span style=\"color: #00af00; text-decoration-color: #00af00\">0</span> (0.00 B)\n",
              "</pre>\n"
            ]
          },
          "metadata": {}
        }
      ]
    },
    {
      "cell_type": "code",
      "source": [
        "history = model_tofit.fit(\n",
        "    trainX_norm, trainY_cate,\n",
        "    validation_data=(testX_norm, testY_cate),\n",
        "    epochs=5,\n",
        "    batch_size=128,\n",
        "    verbose=2\n",
        ")"
      ],
      "metadata": {
        "colab": {
          "base_uri": "https://localhost:8080/"
        },
        "id": "NSsSqmQgw6To",
        "outputId": "556fc3fa-6936-4a54-853f-93a6a87c67d3"
      },
      "execution_count": null,
      "outputs": [
        {
          "output_type": "stream",
          "name": "stdout",
          "text": [
            "Epoch 1/5\n",
            "469/469 - 5s - 10ms/step - accuracy: 0.9077 - loss: 0.3267 - val_accuracy: 0.9547 - val_loss: 0.1576\n",
            "Epoch 2/5\n",
            "469/469 - 1s - 3ms/step - accuracy: 0.9604 - loss: 0.1333 - val_accuracy: 0.9680 - val_loss: 0.1099\n",
            "Epoch 3/5\n",
            "469/469 - 1s - 3ms/step - accuracy: 0.9722 - loss: 0.0929 - val_accuracy: 0.9711 - val_loss: 0.0960\n",
            "Epoch 4/5\n",
            "469/469 - 1s - 3ms/step - accuracy: 0.9783 - loss: 0.0710 - val_accuracy: 0.9741 - val_loss: 0.0887\n",
            "Epoch 5/5\n",
            "469/469 - 1s - 3ms/step - accuracy: 0.9825 - loss: 0.0559 - val_accuracy: 0.9744 - val_loss: 0.0803\n"
          ]
        }
      ]
    },
    {
      "cell_type": "markdown",
      "metadata": {
        "id": "zf672cs82bmw"
      },
      "source": [
        "\n",
        "# **Testing**\n",
        "\n",
        "Una vez que estés satisfecho con el resultado del entrenamiento y la precisión, puedes ejecutar la red en el conjunto de datos de test para medir su rendimiento. Recuerda que sólo debes hacer esto después de haber realizado el entrenamiento y estar satisfecho con los resultados.\n",
        "\n",
        "Un buen resultado será superior al 95% de precisión. Se sabe que algunos modelos sencillos alcanzan una precisión del 99,7%."
      ]
    },
    {
      "cell_type": "code",
      "metadata": {
        "id": "GtqwCVLL24Vq",
        "colab": {
          "base_uri": "https://localhost:8080/"
        },
        "outputId": "f9fc92bb-492d-4a27-f0c6-05ccadfe37ea"
      },
      "source": [
        "predictions = model_tofit.predict(testX_norm).argmax(axis=1)\n",
        "actual = testY_cate.argmax(axis=1)\n",
        "test_accuracy = np.mean(predictions == actual)\n",
        "print(\"Test accuracy:\", test_accuracy)"
      ],
      "execution_count": null,
      "outputs": [
        {
          "output_type": "stream",
          "name": "stdout",
          "text": [
            "\u001b[1m313/313\u001b[0m \u001b[32m━━━━━━━━━━━━━━━━━━━━\u001b[0m\u001b[37m\u001b[0m \u001b[1m1s\u001b[0m 2ms/step\n",
            "Test accuracy: 0.9744\n"
          ]
        }
      ]
    },
    {
      "cell_type": "code",
      "source": [
        "cm = confusion_matrix(y_true=actual, y_pred=predictions)\n",
        "print(\"Confusion matrix:\\n\", cm)"
      ],
      "metadata": {
        "colab": {
          "base_uri": "https://localhost:8080/"
        },
        "id": "-m8I-RzTz1sq",
        "outputId": "cc1aee23-e6ef-4295-af04-b37a35ba2ea9"
      },
      "execution_count": null,
      "outputs": [
        {
          "output_type": "stream",
          "name": "stdout",
          "text": [
            "Confusion matrix:\n",
            " [[ 971    0    1    0    1    1    2    1    3    0]\n",
            " [   0 1119    3    1    0    1    2    0    9    0]\n",
            " [   5    1 1010    0    2    0    4    5    5    0]\n",
            " [   1    1    7  976    0    6    0    5   10    4]\n",
            " [   3    0    5    0  953    0    4    3    1   13]\n",
            " [   2    1    0    4    0  872    6    2    4    1]\n",
            " [   4    3    2    0    8    8  931    0    2    0]\n",
            " [   0    6   13    0    3    1    0  993    2   10]\n",
            " [   5    0    2    1    4    7    3    4  944    4]\n",
            " [   3    4    0    4    8    4    2    4    5  975]]\n"
          ]
        }
      ]
    },
    {
      "cell_type": "code",
      "source": [
        "cr = classification_report(actual, predictions)\n",
        "print(\"Classification report:\\n\", cr)"
      ],
      "metadata": {
        "colab": {
          "base_uri": "https://localhost:8080/"
        },
        "id": "QGAVgqkt0gR_",
        "outputId": "02b6e6e4-9934-4470-e95c-c770ec1eceea"
      },
      "execution_count": null,
      "outputs": [
        {
          "output_type": "stream",
          "name": "stdout",
          "text": [
            "Classification report:\n",
            "               precision    recall  f1-score   support\n",
            "\n",
            "           0       0.98      0.99      0.98       980\n",
            "           1       0.99      0.99      0.99      1135\n",
            "           2       0.97      0.98      0.97      1032\n",
            "           3       0.99      0.97      0.98      1010\n",
            "           4       0.97      0.97      0.97       982\n",
            "           5       0.97      0.98      0.97       892\n",
            "           6       0.98      0.97      0.97       958\n",
            "           7       0.98      0.97      0.97      1028\n",
            "           8       0.96      0.97      0.96       974\n",
            "           9       0.97      0.97      0.97      1009\n",
            "\n",
            "    accuracy                           0.97     10000\n",
            "   macro avg       0.97      0.97      0.97     10000\n",
            "weighted avg       0.97      0.97      0.97     10000\n",
            "\n"
          ]
        }
      ]
    },
    {
      "cell_type": "code",
      "source": [
        "def display_prediction(index):\n",
        "    image = testX[index]\n",
        "    plt.title(f'Predicted: {predictions[index]}, Actual: {testY[index]}')\n",
        "    plt.imshow(image, cmap='gray_r')\n",
        "    plt.show()\n",
        "\n",
        "display_prediction(1234)"
      ],
      "metadata": {
        "colab": {
          "base_uri": "https://localhost:8080/",
          "height": 452
        },
        "id": "aYupUtF_rUpp",
        "outputId": "d211a8f7-223e-4617-e884-8612e27d2d0b"
      },
      "execution_count": null,
      "outputs": [
        {
          "output_type": "display_data",
          "data": {
            "text/plain": [
              "<Figure size 640x480 with 1 Axes>"
            ],
            "image/png": "[encoded data removed]"
          },
          "metadata": {}
        }
      ]
    }
  ]
}